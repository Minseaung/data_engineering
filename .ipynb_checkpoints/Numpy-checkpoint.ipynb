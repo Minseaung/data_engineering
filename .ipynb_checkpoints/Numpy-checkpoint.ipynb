{
 "cells": [
  {
   "cell_type": "markdown",
   "id": "d27ec558",
   "metadata": {},
   "source": [
    "### zeros() : 괄호 안에 입력된 숫자만큼의 원소를 생성하고 0으로 초기화"
   ]
  },
  {
   "cell_type": "code",
   "execution_count": 19,
   "id": "f43fe490",
   "metadata": {},
   "outputs": [
    {
     "data": {
      "text/plain": [
       "array([[0, 0],\n",
       "       [0, 0],\n",
       "       [0, 0],\n",
       "       [0, 0],\n",
       "       [0, 0],\n",
       "       [0, 0],\n",
       "       [0, 0],\n",
       "       [0, 0],\n",
       "       [0, 0],\n",
       "       [0, 0]], dtype=int8)"
      ]
     },
     "execution_count": 19,
     "metadata": {},
     "output_type": "execute_result"
    }
   ],
   "source": [
    "import numpy as np\n",
    "\n",
    "y = np.zeros(shape=(10,2), dtype=np.int8)\n",
    "#y = np.zeros(10)\n",
    "y\n",
    "\n",
    "#x = np.array([1,2,3]) #[1,2,3]은 리스트인데 이 리스트를 배열로 만들어주는 매소드\n",
    "#type(x)\n",
    "#x.shape\n"
   ]
  },
  {
   "cell_type": "markdown",
   "id": "f6a6682d",
   "metadata": {},
   "source": [
    "### mean() : 배열에 저장된 원소들의 평균값을 계산"
   ]
  },
  {
   "cell_type": "code",
   "execution_count": 23,
   "id": "288dd947",
   "metadata": {},
   "outputs": [
    {
     "data": {
      "text/plain": [
       "2.0"
      ]
     },
     "execution_count": 23,
     "metadata": {},
     "output_type": "execute_result"
    }
   ],
   "source": [
    "import numpy as np\n",
    "\n",
    "list_1 = [1,2,3]\n",
    "x = np.array(list_1)\n",
    "np.mean(x)\n",
    "x.mean()"
   ]
  },
  {
   "cell_type": "code",
   "execution_count": 22,
   "id": "5bfdde5c",
   "metadata": {},
   "outputs": [
    {
     "data": {
      "text/plain": [
       "(3,)"
      ]
     },
     "execution_count": 22,
     "metadata": {},
     "output_type": "execute_result"
    }
   ],
   "source": [
    "list_1 = [1,2,3]\n",
    "x = np.array(list_1)\n",
    "x.shape"
   ]
  },
  {
   "cell_type": "markdown",
   "id": "f34e241e",
   "metadata": {},
   "source": [
    "#### array(): Numpy 형식으로 배열의 원소를 입력할 때는 반드시 리스트 형식으로 입력"
   ]
  },
  {
   "cell_type": "code",
   "execution_count": 32,
   "id": "4161ecd4",
   "metadata": {},
   "outputs": [
    {
     "name": "stdout",
     "output_type": "stream",
     "text": [
      "[1 2 3] [1 2 3] {3, 12, 4} {'a': 'c'}\n"
     ]
    }
   ],
   "source": [
    "x = np.array([1,2,3])\n",
    "y = np.array((1,2,3))\n",
    "z = np.array({12,3,4})\n",
    "a = np.array({\"a\":\"b\", \"a\":\"c\"}) #같은 값이 있다면 항상 마지막 값이 출력되는 딕셔너리의 성질\n",
    "print(x,y,z,a)"
   ]
  },
  {
   "cell_type": "markdown",
   "id": "4d46b250",
   "metadata": {},
   "source": [
    "#### reshape(): 배열을 원하는 모양으로 생성"
   ]
  },
  {
   "cell_type": "code",
   "execution_count": 123,
   "id": "9be2e63e",
   "metadata": {},
   "outputs": [
    {
     "name": "stdout",
     "output_type": "stream",
     "text": [
      "[[1 2 3 4]\n",
      " [5 6 7 8]] (2, 4)\n",
      "[[1 2]\n",
      " [3 4]\n",
      " [5 6]\n",
      " [7 8]] (4, 2)\n"
     ]
    }
   ],
   "source": [
    "import numpy as np\n",
    "a = [1,2,3,4,5,6,7,8]\n",
    "b = np.reshape(a,(2,4))\n",
    "c = np.reshape(a,(4,2))\n",
    "print(b, b.shape)\n",
    "print(c, c.shape)\n",
    "#print(c)"
   ]
  },
  {
   "cell_type": "markdown",
   "id": "70daf521",
   "metadata": {},
   "source": [
    "#### reshape() 응용: 3차원 만들기"
   ]
  },
  {
   "cell_type": "code",
   "execution_count": 39,
   "id": "ec3b5b2a",
   "metadata": {},
   "outputs": [
    {
     "data": {
      "text/plain": [
       "array([1, 2, 3, 4, 5, 6, 7, 8])"
      ]
     },
     "execution_count": 39,
     "metadata": {},
     "output_type": "execute_result"
    }
   ],
   "source": [
    "a = np.arange(1, 9)\n",
    "a"
   ]
  },
  {
   "cell_type": "code",
   "execution_count": 42,
   "id": "ce7714b0",
   "metadata": {},
   "outputs": [
    {
     "name": "stdout",
     "output_type": "stream",
     "text": [
      "[[[1 2]\n",
      "  [3 4]]\n",
      "\n",
      " [[5 6]\n",
      "  [7 8]]]\n"
     ]
    }
   ],
   "source": [
    "b = a.reshape(2,2,2)\n",
    "print(b)"
   ]
  },
  {
   "cell_type": "code",
   "execution_count": 45,
   "id": "58563522",
   "metadata": {},
   "outputs": [
    {
     "name": "stdout",
     "output_type": "stream",
     "text": [
      "[ 1  2  3  4  5  6  7  8  9 10 11 12]\n",
      "[[[ 1  2]\n",
      "  [ 3  4]]\n",
      "\n",
      " [[ 5  6]\n",
      "  [ 7  8]]\n",
      "\n",
      " [[ 9 10]\n",
      "  [11 12]]]\n"
     ]
    }
   ],
   "source": [
    "a = np.arange(1, 13)\n",
    "print(a)\n",
    "b = a.reshape(3,2,2)\n",
    "print(b)"
   ]
  },
  {
   "cell_type": "markdown",
   "id": "8f785ad1",
   "metadata": {},
   "source": [
    "##### reshape 의미"
   ]
  },
  {
   "cell_type": "markdown",
   "id": "629891d2",
   "metadata": {},
   "source": [
    "###### reshape를 활용하는 경우를 보다 보면 입력인수로 -1이 들어간 경우가 종종 있다. reshape()의 ‘-1’이 의미하는 바는, 변경된 배열의 ‘-1’ 위치의 차원은 “원래 배열의 길이와 남은 차원으로 부터 추정”이 된다는 뜻이다."
   ]
  },
  {
   "cell_type": "code",
   "execution_count": 47,
   "id": "48cc8b4a",
   "metadata": {},
   "outputs": [
    {
     "data": {
      "text/plain": [
       "array([[ 0,  1,  2,  3],\n",
       "       [ 4,  5,  6,  7],\n",
       "       [ 8,  9, 10, 11]])"
      ]
     },
     "execution_count": 47,
     "metadata": {},
     "output_type": "execute_result"
    }
   ],
   "source": [
    "x = np.arange(12)\n",
    "x = x.reshape(3,4)\n",
    "x"
   ]
  },
  {
   "cell_type": "code",
   "execution_count": 48,
   "id": "f2693e13",
   "metadata": {},
   "outputs": [
    {
     "data": {
      "text/plain": [
       "array([[ 0],\n",
       "       [ 1],\n",
       "       [ 2],\n",
       "       [ 3],\n",
       "       [ 4],\n",
       "       [ 5],\n",
       "       [ 6],\n",
       "       [ 7],\n",
       "       [ 8],\n",
       "       [ 9],\n",
       "       [10],\n",
       "       [11]])"
      ]
     },
     "execution_count": 48,
     "metadata": {},
     "output_type": "execute_result"
    }
   ],
   "source": [
    "x.reshape(-1,1)"
   ]
  },
  {
   "cell_type": "code",
   "execution_count": 54,
   "id": "0e48c645",
   "metadata": {},
   "outputs": [
    {
     "data": {
      "text/plain": [
       "array([[ 0,  1],\n",
       "       [ 2,  3],\n",
       "       [ 4,  5],\n",
       "       [ 6,  7],\n",
       "       [ 8,  9],\n",
       "       [10, 11]])"
      ]
     },
     "execution_count": 54,
     "metadata": {},
     "output_type": "execute_result"
    }
   ],
   "source": [
    "x.reshape(-1,2)"
   ]
  },
  {
   "cell_type": "markdown",
   "id": "7e449496",
   "metadata": {},
   "source": [
    "#### ones() : 배열을 1의 값들로 채움"
   ]
  },
  {
   "cell_type": "code",
   "execution_count": 61,
   "id": "0ec01116",
   "metadata": {},
   "outputs": [
    {
     "name": "stdout",
     "output_type": "stream",
     "text": [
      "[[1. 1. 1.]\n",
      " [1. 1. 1.]\n",
      " [1. 1. 1.]\n",
      " [1. 1. 1.]]\n"
     ]
    }
   ],
   "source": [
    "y = np.ones([4,3])\n",
    "#z = y*0.3\n",
    "print(y)\n",
    "#print(z)"
   ]
  },
  {
   "cell_type": "markdown",
   "id": "b29c918c",
   "metadata": {},
   "source": [
    "### Numpy 배열의 슬라이싱\n"
   ]
  },
  {
   "cell_type": "code",
   "execution_count": 64,
   "id": "bb7c8cda",
   "metadata": {},
   "outputs": [
    {
     "name": "stdout",
     "output_type": "stream",
     "text": [
      "[2, 12]\n"
     ]
    },
    {
     "ename": "TypeError",
     "evalue": "list indices must be integers or slices, not tuple",
     "output_type": "error",
     "traceback": [
      "\u001b[1;31m---------------------------------------------------------------------------\u001b[0m",
      "\u001b[1;31mTypeError\u001b[0m                                 Traceback (most recent call last)",
      "\u001b[1;32m<ipython-input-64-32eaf533dfc3>\u001b[0m in \u001b[0;36m<module>\u001b[1;34m\u001b[0m\n\u001b[0;32m      1\u001b[0m \u001b[0mlist1\u001b[0m \u001b[1;33m=\u001b[0m \u001b[1;33m[\u001b[0m\u001b[1;33m[\u001b[0m\u001b[1;36m1\u001b[0m\u001b[1;33m,\u001b[0m\u001b[1;36m11\u001b[0m\u001b[1;33m]\u001b[0m\u001b[1;33m,\u001b[0m\u001b[1;33m[\u001b[0m\u001b[1;36m2\u001b[0m\u001b[1;33m,\u001b[0m\u001b[1;36m12\u001b[0m\u001b[1;33m]\u001b[0m\u001b[1;33m,\u001b[0m\u001b[1;33m[\u001b[0m\u001b[1;36m3\u001b[0m\u001b[1;33m,\u001b[0m\u001b[1;36m13\u001b[0m\u001b[1;33m]\u001b[0m\u001b[1;33m,\u001b[0m\u001b[1;33m[\u001b[0m\u001b[1;36m4\u001b[0m\u001b[1;33m,\u001b[0m\u001b[1;36m14\u001b[0m\u001b[1;33m]\u001b[0m\u001b[1;33m]\u001b[0m\u001b[1;33m\u001b[0m\u001b[1;33m\u001b[0m\u001b[0m\n\u001b[0;32m      2\u001b[0m \u001b[0mprint\u001b[0m\u001b[1;33m(\u001b[0m\u001b[0mlist1\u001b[0m\u001b[1;33m[\u001b[0m\u001b[1;33m:\u001b[0m\u001b[1;33m]\u001b[0m\u001b[1;33m[\u001b[0m\u001b[1;36m1\u001b[0m\u001b[1;33m]\u001b[0m\u001b[1;33m)\u001b[0m\u001b[1;33m\u001b[0m\u001b[1;33m\u001b[0m\u001b[0m\n\u001b[1;32m----> 3\u001b[1;33m \u001b[0mprint\u001b[0m\u001b[1;33m(\u001b[0m\u001b[0mlist1\u001b[0m\u001b[1;33m[\u001b[0m\u001b[1;33m:\u001b[0m\u001b[1;33m,\u001b[0m\u001b[1;36m1\u001b[0m\u001b[1;33m]\u001b[0m\u001b[1;33m)\u001b[0m\u001b[1;33m\u001b[0m\u001b[1;33m\u001b[0m\u001b[0m\n\u001b[0m",
      "\u001b[1;31mTypeError\u001b[0m: list indices must be integers or slices, not tuple"
     ]
    }
   ],
   "source": [
    "list1 = [[1,11],[2,12],[3,13],[4,14]]\n",
    "print(list1[:][1])\n",
    "print(list1[:,1])"
   ]
  },
  {
   "cell_type": "code",
   "execution_count": 80,
   "id": "9bf48e48",
   "metadata": {},
   "outputs": [
    {
     "name": "stdout",
     "output_type": "stream",
     "text": [
      "[[ 1 11]\n",
      " [ 2 12]\n",
      " [ 3 13]\n",
      " [ 4 14]]\n",
      "(4, 2)\n",
      "[11 12 13 14]\n",
      "[ 2 12]\n",
      "12\n",
      "[ 3 13]\n",
      "[[ 2 12]\n",
      " [ 3 13]\n",
      " [ 4 14]]\n"
     ]
    }
   ],
   "source": [
    "list1 = [[1,11],[2,12],[3,13],[4,14]]\n",
    "arr = np.array(list1)\n",
    "print(arr)\n",
    "print(arr.shape)\n",
    "print(arr[:,1])\n",
    "print(arr[:][1])\n",
    "print(arr[1][1])\n",
    "print(arr[1:3][1])\n",
    "print(arr[1:4])"
   ]
  },
  {
   "cell_type": "markdown",
   "id": "f4e71c55",
   "metadata": {},
   "source": [
    "#### math 모듈 이용의 sqrt()와 numpy 모듈의 sqrt() 비교"
   ]
  },
  {
   "cell_type": "code",
   "execution_count": 83,
   "id": "61c52fa4",
   "metadata": {},
   "outputs": [
    {
     "ename": "TypeError",
     "evalue": "must be real number, not list",
     "output_type": "error",
     "traceback": [
      "\u001b[1;31m---------------------------------------------------------------------------\u001b[0m",
      "\u001b[1;31mTypeError\u001b[0m                                 Traceback (most recent call last)",
      "\u001b[1;32m<ipython-input-83-a371fd607665>\u001b[0m in \u001b[0;36m<module>\u001b[1;34m\u001b[0m\n\u001b[0;32m      1\u001b[0m \u001b[1;32mimport\u001b[0m \u001b[0mmath\u001b[0m\u001b[1;33m\u001b[0m\u001b[1;33m\u001b[0m\u001b[0m\n\u001b[0;32m      2\u001b[0m \u001b[0mmath\u001b[0m\u001b[1;33m.\u001b[0m\u001b[0msqrt\u001b[0m\u001b[1;33m(\u001b[0m\u001b[1;36m2\u001b[0m\u001b[1;33m)\u001b[0m\u001b[1;33m\u001b[0m\u001b[1;33m\u001b[0m\u001b[0m\n\u001b[1;32m----> 3\u001b[1;33m \u001b[0mmath\u001b[0m\u001b[1;33m.\u001b[0m\u001b[0msqrt\u001b[0m\u001b[1;33m(\u001b[0m\u001b[1;33m[\u001b[0m\u001b[1;36m2\u001b[0m\u001b[1;33m,\u001b[0m\u001b[1;36m3\u001b[0m\u001b[1;33m,\u001b[0m\u001b[1;36m4\u001b[0m\u001b[1;33m]\u001b[0m\u001b[1;33m)\u001b[0m\u001b[1;33m\u001b[0m\u001b[1;33m\u001b[0m\u001b[0m\n\u001b[0m",
      "\u001b[1;31mTypeError\u001b[0m: must be real number, not list"
     ]
    }
   ],
   "source": [
    "import math\n",
    "math.sqrt(2)\n",
    "math.sqrt([2,3,4]) #math는 각각의 원소에게 루트를 씌울 수 없음"
   ]
  },
  {
   "cell_type": "code",
   "execution_count": 84,
   "id": "640dfbba",
   "metadata": {},
   "outputs": [
    {
     "data": {
      "text/plain": [
       "array([1.41421356, 1.73205081, 2.        ])"
      ]
     },
     "execution_count": 84,
     "metadata": {},
     "output_type": "execute_result"
    }
   ],
   "source": [
    "import numpy as np\n",
    "np.sqrt(2)\n",
    "np.sqrt([2,3,4]) #하지만 numpy는 리스트 안의 원소에 각각 루트를 씌울 수 있음"
   ]
  },
  {
   "cell_type": "code",
   "execution_count": 88,
   "id": "00cd972c",
   "metadata": {},
   "outputs": [
    {
     "name": "stdout",
     "output_type": "stream",
     "text": [
      "[0. 0. 0. 0. 0. 0. 0. 0. 0. 0. 0. 0. 0. 0. 0.]\n"
     ]
    }
   ],
   "source": [
    "import numpy as np\n",
    "\n",
    "x = np.zeros(15)\n",
    "print(x)"
   ]
  },
  {
   "cell_type": "code",
   "execution_count": 89,
   "id": "ed3f0930",
   "metadata": {},
   "outputs": [
    {
     "name": "stdout",
     "output_type": "stream",
     "text": [
      "[[0. 0. 0.]\n",
      " [0. 0. 0.]\n",
      " [0. 0. 0.]\n",
      " [0. 0. 0.]\n",
      " [0. 0. 0.]]\n"
     ]
    }
   ],
   "source": [
    "y = np.zeros([5,3])\n",
    "print(y)"
   ]
  },
  {
   "cell_type": "code",
   "execution_count": 125,
   "id": "00d10e3f",
   "metadata": {},
   "outputs": [
    {
     "name": "stdout",
     "output_type": "stream",
     "text": [
      "[[4. 4. 4. 4. 4.]\n",
      " [4. 4. 4. 4. 4.]\n",
      " [4. 4. 4. 4. 4.]]\n"
     ]
    }
   ],
   "source": [
    "#(3,5) 형태로 reshape\n",
    "y = np.zeros([5,3])\n",
    "z = y.reshape([3,5])\n",
    "\n",
    "#원소를 4로 지정한 (3,5)행렬을 만들어라\n",
    "z += 4\n",
    "print(z)"
   ]
  },
  {
   "cell_type": "markdown",
   "id": "c0d630d5",
   "metadata": {},
   "source": [
    "### 전치행렬\n",
    "#### transpose() : 행과 열을 교환하여 얻어지는 행렬, 행렬의 값들을 주대각선을 기준으로 위치를 바꾼 행렬을 의미"
   ]
  },
  {
   "cell_type": "code",
   "execution_count": 95,
   "id": "ab5dd4a1",
   "metadata": {},
   "outputs": [
    {
     "name": "stdout",
     "output_type": "stream",
     "text": [
      "[[1 2]\n",
      " [3 4]]\n",
      "\n",
      "\n",
      "[[1 3]\n",
      " [2 4]]\n"
     ]
    }
   ],
   "source": [
    "import numpy as np\n",
    "\n",
    "list = [[1,2],[3,4]]\n",
    "ary = np.array(list)\n",
    "print(ary)\n",
    "print('\\n')\n",
    "trans_ary = ary.transpose()\n",
    "print(trans_ary)"
   ]
  },
  {
   "cell_type": "code",
   "execution_count": 97,
   "id": "d1eb7096",
   "metadata": {},
   "outputs": [
    {
     "name": "stdout",
     "output_type": "stream",
     "text": [
      "[[1 2 5]\n",
      " [3 4 6]]\n",
      "\n",
      "\n",
      "[[1 3]\n",
      " [2 4]\n",
      " [5 6]]\n"
     ]
    }
   ],
   "source": [
    "ary = np.array([[1,2,5],[3,4,6]])\n",
    "print(ary)\n",
    "print('\\n')\n",
    "trans_ary = ary.transpose()\n",
    "print(trans_ary)"
   ]
  },
  {
   "cell_type": "markdown",
   "id": "a802c440",
   "metadata": {},
   "source": [
    "#### 2개 배열에 대한 연산\n",
    "###### – 2개 배열에 저장된 내용을 인덱스별로 계산\n",
    "###### – 선형대수학의 사칙연산과 동일하게 작동. 곱셈도 같은 원리로 동작"
   ]
  },
  {
   "cell_type": "code",
   "execution_count": 103,
   "id": "8c17f1b1",
   "metadata": {},
   "outputs": [
    {
     "name": "stdout",
     "output_type": "stream",
     "text": [
      "[4 6 8]\n",
      "[ 3  8 15]\n",
      "[0 0 2]\n",
      "[  3  16 125]\n"
     ]
    }
   ],
   "source": [
    "import numpy as np\n",
    "\n",
    "x = np.array((3,4,5))\n",
    "y = np.array((1,2,3))\n",
    "print(x+y)\n",
    "print(x*y)\n",
    "print(x%y)\n",
    "print(x**y)"
   ]
  },
  {
   "cell_type": "code",
   "execution_count": 110,
   "id": "fc0c163e",
   "metadata": {},
   "outputs": [
    {
     "name": "stdout",
     "output_type": "stream",
     "text": [
      "[18 19 20]\n"
     ]
    }
   ],
   "source": [
    "x = np.array((3,4,5))\n",
    "x += 15\n",
    "print(x)"
   ]
  },
  {
   "cell_type": "markdown",
   "id": "354116b5",
   "metadata": {},
   "source": [
    "#### 인덱싱"
   ]
  },
  {
   "cell_type": "code",
   "execution_count": 114,
   "id": "2c912273",
   "metadata": {},
   "outputs": [
    {
     "name": "stdout",
     "output_type": "stream",
     "text": [
      "[4 5 6]\n",
      "[2 5 8]\n"
     ]
    }
   ],
   "source": [
    "x = np.array([[1,2,3],[4,5,6],[7,8,9]])\n",
    "print(x[1])\n",
    "print(x[:, 1])"
   ]
  },
  {
   "cell_type": "markdown",
   "id": "f0ff5677",
   "metadata": {},
   "source": [
    "#### 2개의 numpy 배열 간의 계산"
   ]
  },
  {
   "cell_type": "code",
   "execution_count": 121,
   "id": "9f57093f",
   "metadata": {},
   "outputs": [
    {
     "name": "stdout",
     "output_type": "stream",
     "text": [
      "[ 9 11 13]\n",
      "[ 9 11 13]\n"
     ]
    }
   ],
   "source": [
    "#x의 1행과 y의 3행을 더한 값을 출력하시오\n",
    "import numpy as np\n",
    "x = np.array([[1,2,3], [4,5,6], [7,8,9]])\n",
    "y = np.array([[2,3,4], [5,6,7], [8,9,10]])\n",
    "print(x[0,:]+y[2,:])\n",
    "print(x[0]+y[2])"
   ]
  },
  {
   "cell_type": "code",
   "execution_count": 126,
   "id": "ecce1a77",
   "metadata": {},
   "outputs": [
    {
     "name": "stdout",
     "output_type": "stream",
     "text": [
      "[16 45 80]\n"
     ]
    }
   ],
   "source": [
    "#x의 2열과 y의 3행을 곱한 값을 출력하시오\n",
    "import numpy as np\n",
    "x = np.array([[1,2,3], [4,5,6], [7,8,9]])\n",
    "y = np.array([[2,3,4], [5,6,7], [8,9,10]])\n",
    "print(x[:,1]*y[2])"
   ]
  },
  {
   "cell_type": "code",
   "execution_count": 127,
   "id": "63e85397",
   "metadata": {},
   "outputs": [
    {
     "name": "stdout",
     "output_type": "stream",
     "text": [
      "[False False False  True  True]\n"
     ]
    }
   ],
   "source": [
    "a = np.array([10,20,30,40,60])\n",
    "b = a>30\n",
    "print(b)"
   ]
  },
  {
   "cell_type": "markdown",
   "id": "c66785d1",
   "metadata": {},
   "source": [
    "#### random()"
   ]
  },
  {
   "cell_type": "code",
   "execution_count": 135,
   "id": "d32921c7",
   "metadata": {},
   "outputs": [
    {
     "name": "stdout",
     "output_type": "stream",
     "text": [
      "[0.0938272  0.46528454 0.31092848 0.59773829 0.62223339]\n",
      "[[[0.53656776 0.19773886]\n",
      "  [0.91591733 0.35763205]\n",
      "  [0.27669952 0.13160736]]\n",
      "\n",
      " [[0.44099669 0.59547045]\n",
      "  [0.92952941 0.44068452]\n",
      "  [0.83202923 0.6498491 ]]] (2, 3, 2)\n"
     ]
    }
   ],
   "source": [
    "import numpy as np\n",
    "\n",
    "ary = np.random.random(5)\n",
    "print(ary)"
   ]
  },
  {
   "cell_type": "code",
   "execution_count": 145,
   "id": "ec66cb9c",
   "metadata": {},
   "outputs": [
    {
     "name": "stdout",
     "output_type": "stream",
     "text": [
      "[0.1622699  0.08440307 0.03478815 0.25458932 0.30927639]\n",
      "[[[0.78038541 0.18814687]\n",
      "  [0.05196056 0.43891318]\n",
      "  [0.98282512 0.61276254]]\n",
      "\n",
      " [[0.21445824 0.46434165]\n",
      "  [0.90153103 0.04241003]\n",
      "  [0.1711839  0.49692842]]] (2, 3, 2)\n"
     ]
    }
   ],
   "source": [
    "# (0,1) 범위에서 균일한 분포\n",
    "ary = np.random.random(5)\n",
    "print(ary)\n",
    "\n",
    "b = np.random.rand(2, 3, 2)   #rand를 쓰면 행렬을 만들어준다\n",
    "print(b, b.shape)"
   ]
  },
  {
   "cell_type": "code",
   "execution_count": 142,
   "id": "a904476a",
   "metadata": {},
   "outputs": [
    {
     "name": "stdout",
     "output_type": "stream",
     "text": [
      "[0 0 1 1 0]\n",
      "[3 3 3 2 3]\n",
      "[[3 2 1]\n",
      " [2 1 4]]\n"
     ]
    }
   ],
   "source": [
    "a = np.random.randint(2, size=5)\n",
    "print(a)\n",
    "\n",
    "b = np.random.randint(2, 4, size=5)\n",
    "print(b)\n",
    "\n",
    "c = np.random.randint(1, 5, size=(2, 3))\n",
    "print(c)"
   ]
  },
  {
   "cell_type": "markdown",
   "id": "7e46e0b9",
   "metadata": {},
   "source": [
    "#### random.seed() : 함수는 난수 생성에 필요한 시드를 설정합니다."
   ]
  },
  {
   "cell_type": "code",
   "execution_count": 146,
   "id": "65b814f3",
   "metadata": {},
   "outputs": [
    {
     "name": "stdout",
     "output_type": "stream",
     "text": [
      "[[0.5488135  0.71518937 0.60276338]\n",
      " [0.54488318 0.4236548  0.64589411]]\n"
     ]
    }
   ],
   "source": [
    "np.random.seed(0)\n",
    "print(np.random.rand(2,3))"
   ]
  },
  {
   "cell_type": "code",
   "execution_count": 163,
   "id": "0ea23dca",
   "metadata": {},
   "outputs": [
    {
     "name": "stdout",
     "output_type": "stream",
     "text": [
      "[ True  True  True  True  True]\n",
      "True\n"
     ]
    }
   ],
   "source": [
    "np.random.seed(0)\n",
    "a = np.random.random(5)\n",
    "#a>0.12\n",
    "print(a>0.12)\n",
    "print(np.all(a>0.12))"
   ]
  },
  {
   "cell_type": "markdown",
   "id": "df41eda4",
   "metadata": {},
   "source": [
    "#### any() 와 all() 의 비교"
   ]
  },
  {
   "cell_type": "code",
   "execution_count": 168,
   "id": "0b51544e",
   "metadata": {},
   "outputs": [
    {
     "name": "stdout",
     "output_type": "stream",
     "text": [
      "[ True  True  True  True  True]\n"
     ]
    },
    {
     "data": {
      "text/plain": [
       "True"
      ]
     },
     "execution_count": 168,
     "metadata": {},
     "output_type": "execute_result"
    }
   ],
   "source": [
    "a = np.random.random(5)\n",
    "print(a>0.12)\n",
    "np.all(a>0.12)"
   ]
  },
  {
   "cell_type": "code",
   "execution_count": 193,
   "id": "fab0586c",
   "metadata": {},
   "outputs": [
    {
     "name": "stdout",
     "output_type": "stream",
     "text": [
      "[False False False False False]\n"
     ]
    },
    {
     "data": {
      "text/plain": [
       "False"
      ]
     },
     "execution_count": 193,
     "metadata": {},
     "output_type": "execute_result"
    }
   ],
   "source": [
    "a = np.random.random(5)\n",
    "print(a>0.9)\n",
    "np.any(a>0.9)"
   ]
  },
  {
   "cell_type": "markdown",
   "id": "fd9e9954",
   "metadata": {},
   "source": [
    "#### linspace() : 시작과 끝의 값을 지정하고 그 사이의 값을 균등하게 배분"
   ]
  },
  {
   "cell_type": "code",
   "execution_count": 196,
   "id": "df5cd5a9",
   "metadata": {},
   "outputs": [
    {
     "data": {
      "text/plain": [
       "array([ 0.,  4.,  8., 12.])"
      ]
     },
     "execution_count": 196,
     "metadata": {},
     "output_type": "execute_result"
    }
   ],
   "source": [
    "np.linspace(0, 12, 4)"
   ]
  },
  {
   "cell_type": "code",
   "execution_count": 197,
   "id": "ec1957be",
   "metadata": {},
   "outputs": [
    {
     "data": {
      "text/plain": [
       "array([0., 3., 6., 9.])"
      ]
     },
     "execution_count": 197,
     "metadata": {},
     "output_type": "execute_result"
    }
   ],
   "source": [
    "np.linspace(0, 12, 4, endpoint=False) #마지막 값을 제외하고 샘플값을 만들어냄"
   ]
  },
  {
   "cell_type": "code",
   "execution_count": 199,
   "id": "644859fe",
   "metadata": {},
   "outputs": [
    {
     "data": {
      "text/plain": [
       "(array([ 0.,  4.,  8., 12.]), 4.0)"
      ]
     },
     "execution_count": 199,
     "metadata": {},
     "output_type": "execute_result"
    }
   ],
   "source": [
    "np.linspace(0, 12, 4, retstep=True) #간격이 되는 숫자값을 도출해줌"
   ]
  },
  {
   "cell_type": "code",
   "execution_count": null,
   "id": "acea7fae",
   "metadata": {},
   "outputs": [],
   "source": []
  }
 ],
 "metadata": {
  "kernelspec": {
   "display_name": "Python 3",
   "language": "python",
   "name": "python3"
  },
  "language_info": {
   "codemirror_mode": {
    "name": "ipython",
    "version": 3
   },
   "file_extension": ".py",
   "mimetype": "text/x-python",
   "name": "python",
   "nbconvert_exporter": "python",
   "pygments_lexer": "ipython3",
   "version": "3.8.9"
  }
 },
 "nbformat": 4,
 "nbformat_minor": 5
}
