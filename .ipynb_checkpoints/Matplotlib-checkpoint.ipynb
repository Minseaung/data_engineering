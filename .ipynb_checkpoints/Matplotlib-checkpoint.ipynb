{
 "cells": [
  {
   "cell_type": "markdown",
   "id": "4d30c43c",
   "metadata": {},
   "source": [
    "# Matplotlib [#](http://www.incodom.kr/파이썬/라이브러리/Matplotlib#h_1587383cf8c21507d06fb51ef7ddda0c)\n",
    "\n",
    "## 다양한 시각화 라이브러리에 대하여 [#](http://www.incodom.kr/파이썬/라이브러리/Matplotlib#h_888e2f72e47fd5609cdccf17696bb536)\n",
    "\n",
    "들어가기에 앞서 다양한 시각 라이브러리에 대해 말하고자 한다. R언어를 이용한다면 ggplot이란 라이브러리가 독점적으로 쓰이고 있지만, python에서는 matplotlib을 포함하여 seaborn, plotly, folium, 등 여러 라이브러리가 분석가의 목적에 따라 혹은 기호에 따라 다양하게 쓰이고 있다. 필자에게 이들 중 가장 대중적인 기본 플랏(적당히 간단하며 플랏다운)을 고르라면 단연 matplotlib이며 이것보다 좀더 화려하게 쓰고 싶다면 seaborn, plotly를 이용하기 시작한다.\n",
    "\n",
    "## Matplotlib 란? [#](http://www.incodom.kr/파이썬/라이브러리/Matplotlib#h_12a420eebe1dddd48b87dbde89d813fb)\n",
    "\n",
    "[Matplotlib](http://www.incodom.kr/Matplotlib)는 수많은 [파이썬](http://www.incodom.kr/파이썬) 라이브러리 중에서 플롯(그래프)을 그릴 때 주로 쓰이는 2D, 3D 플롯팅 패키지(모듈)이다. 현재까지(19년 12월 기준) open source를 통해 3.1.1 버전까지 개발됐으며 자세한 정보는 아래 링크를 통해 확인할 수 있다.\n",
    "\n",
    "> [홈페이지](http://matplotlib.org/)\n",
    "\n"
   ]
  },
  {
   "cell_type": "code",
   "execution_count": 1,
   "id": "941fff37",
   "metadata": {},
   "outputs": [
    {
     "name": "stdout",
     "output_type": "stream",
     "text": [
      "Collecting matplotlib\n",
      "  Downloading matplotlib-3.4.1-cp38-cp38-win_amd64.whl (7.1 MB)\n",
      "Requirement already satisfied: numpy>=1.16 in c:\\users\\ad\\appdata\\local\\programs\\python\\python38\\lib\\site-packages (from matplotlib) (1.20.2)\n",
      "Collecting cycler>=0.10\n",
      "  Downloading cycler-0.10.0-py2.py3-none-any.whl (6.5 kB)\n",
      "Collecting kiwisolver>=1.0.1\n",
      "  Downloading kiwisolver-1.3.1-cp38-cp38-win_amd64.whl (51 kB)\n",
      "Collecting pillow>=6.2.0\n",
      "  Downloading Pillow-8.2.0-cp38-cp38-win_amd64.whl (2.2 MB)\n",
      "Requirement already satisfied: python-dateutil>=2.7 in c:\\users\\ad\\appdata\\local\\programs\\python\\python38\\lib\\site-packages (from matplotlib) (2.8.1)\n",
      "Requirement already satisfied: pyparsing>=2.2.1 in c:\\users\\ad\\appdata\\local\\programs\\python\\python38\\lib\\site-packages (from matplotlib) (2.4.7)\n",
      "Requirement already satisfied: six in c:\\users\\ad\\appdata\\local\\programs\\python\\python38\\lib\\site-packages (from cycler>=0.10->matplotlib) (1.15.0)\n",
      "Installing collected packages: cycler, kiwisolver, pillow, matplotlib\n",
      "Successfully installed cycler-0.10.0 kiwisolver-1.3.1 matplotlib-3.4.1 pillow-8.2.0\n"
     ]
    },
    {
     "name": "stderr",
     "output_type": "stream",
     "text": [
      "WARNING: You are using pip version 20.2.3; however, version 21.0.1 is available.\n",
      "You should consider upgrading via the 'c:\\users\\ad\\appdata\\local\\programs\\python\\python38\\python.exe -m pip install --upgrade pip' command.\n"
     ]
    }
   ],
   "source": [
    "!pip install matplotlib"
   ]
  },
  {
   "cell_type": "code",
   "execution_count": 6,
   "id": "b6478030",
   "metadata": {},
   "outputs": [
    {
     "data": {
      "image/png": "[encoded data removed]",
      "text/plain": [
       "<Figure size 432x288 with 1 Axes>"
      ]
     },
     "metadata": {
      "needs_background": "light"
     },
     "output_type": "display_data"
    }
   ],
   "source": [
    "%matplotlib inline\n",
    "import numpy as np\n",
    "import matplotlib.pyplot as plt\n",
    "\n",
    "arr = np.array(range(1,11))\n",
    "plt.plot(arr)\n",
    "plt.show()"
   ]
  },
  {
   "cell_type": "code",
   "execution_count": 7,
   "id": "85540966",
   "metadata": {},
   "outputs": [
    {
     "data": {
      "text/plain": [
       "True"
      ]
     },
     "execution_count": 7,
     "metadata": {},
     "output_type": "execute_result"
    }
   ],
   "source": [
    "arr = [13,15,16,18,17,16,16]\n",
    "16 in arr"
   ]
  },
  {
   "cell_type": "code",
   "execution_count": 14,
   "id": "2794358e",
   "metadata": {},
   "outputs": [
    {
     "name": "stdout",
     "output_type": "stream",
     "text": [
      "range(0, 9)\n"
     ]
    },
    {
     "data": {
      "image/png": "[encoded data removed]",
      "text/plain": [
       "<Figure size 432x288 with 1 Axes>"
      ]
     },
     "metadata": {
      "needs_background": "light"
     },
     "output_type": "display_data"
    }
   ],
   "source": [
    "arr = [13,15,16,18,17,16,16,17,18]\n",
    "print(range(len(arr))) #len은 갯수를 세우는 용도! range(len이 센 arr의 인자 갯수)\n",
    "plt.plot(range(len(arr)),arr)\n",
    "plt.show()"
   ]
  },
  {
   "cell_type": "code",
   "execution_count": null,
   "id": "ae0c7783",
   "metadata": {},
   "outputs": [],
   "source": []
  }
 ],
 "metadata": {
  "kernelspec": {
   "display_name": "Python 3",
   "language": "python",
   "name": "python3"
  },
  "language_info": {
   "codemirror_mode": {
    "name": "ipython",
    "version": 3
   },
   "file_extension": ".py",
   "mimetype": "text/x-python",
   "name": "python",
   "nbconvert_exporter": "python",
   "pygments_lexer": "ipython3",
   "version": "3.8.9"
  }
 },
 "nbformat": 4,
 "nbformat_minor": 5
}
